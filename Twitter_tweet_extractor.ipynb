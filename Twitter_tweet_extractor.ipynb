{
 "cells": [
  {
   "cell_type": "code",
   "execution_count": 1,
   "metadata": {
    "collapsed": true
   },
   "outputs": [],
   "source": [
    "import tweepy\n",
    "import re\n",
    "from textblob import TextBlob\n",
    "from pandas import DataFrame, Series"
   ]
  },
  {
   "cell_type": "markdown",
   "metadata": {},
   "source": [
    "<b/>To access the Twitter API through Python, one must have a developer account that will provide you with the following \n",
    "credentials to get Twitter data"
   ]
  },
  {
   "cell_type": "code",
   "execution_count": 6,
   "metadata": {
    "collapsed": true
   },
   "outputs": [],
   "source": [
    "consumer_key = ''           # Enter your consumer key\n",
    "consumer_secret = ''        # Enter your consumer secret\n",
    "access_token = ''           # Enter your access token\n",
    "access_token_secret = ''    # Enter your access token secret\n",
    "\n",
    "# To authenticate the user credentials and create an object 'api' to stream data\n",
    "auth=tweepy.OAuthHandler(consumer_key,consumer_secret)\n",
    "auth.set_access_token(access_token,access_token_secret)\n",
    "\n",
    "api = tweepy.API(auth)"
   ]
  },
  {
   "cell_type": "markdown",
   "metadata": {},
   "source": [
    "<b>The Twitter API allows users to pull a maximum of 100 latest tweets per request, thus the count variable is used to specify the required no.</b>\n",
    "\n",
    "<b/> The reason of keeping the count to 50 is explained next, though this can be varied between 0-100 as per user."
   ]
  },
  {
   "cell_type": "code",
   "execution_count": 7,
   "metadata": {
    "collapsed": false
   },
   "outputs": [
    {
     "name": "stdout",
     "output_type": "stream",
     "text": [
      "Number of Tweets pulled: 50\n"
     ]
    }
   ],
   "source": [
    "# 'trending is the variable string which becomes the keyword to look for while pulling the data from Twitter\n",
    "trending = 'Cristiano Ronaldo'\n",
    "public_tweets = api.search(trending,count = 50) # Twitter does not provide historical data older than 1 week\n",
    "all_tt=[]\n",
    "for tweet in public_tweets:\n",
    "    all_tt.append(tweet.text)\n",
    "\n",
    "print 'Number of Tweets pulled:',len(all_tt)"
   ]
  },
  {
   "cell_type": "markdown",
   "metadata": {},
   "source": [
    "<h2> Due to API restrictions noted above, we have come up with a solution to pull the desired number of tweets(if available) and store them as a list of tweets. "
   ]
  },
  {
   "cell_type": "markdown",
   "metadata": {},
   "source": [
    "<b>The number of tweets depend on the 'counter' variable and the count argumment in the api call, thus by changing these 2 values, user can get the desired no of tweets."
   ]
  },
  {
   "cell_type": "markdown",
   "metadata": {},
   "source": [
    "<b>The tweets will be appended to the same list of tweets to make operation easy."
   ]
  },
  {
   "cell_type": "code",
   "execution_count": 8,
   "metadata": {
    "collapsed": false
   },
   "outputs": [
    {
     "name": "stdout",
     "output_type": "stream",
     "text": [
      "@Todo_atleti\n",
      "@LaLiga_aldia\n",
      "@LaLiga_aldia\n",
      "@LaLiga_aldia\n",
      "@TrollFootball\n",
      "The grand total of Tweets that could be pulled: 300\n"
     ]
    }
   ],
   "source": [
    "counter = 5\n",
    "\n",
    "for i in range(counter):\n",
    "    \n",
    "    lst=[]\n",
    "    for i in all_tt:\n",
    "        a=re.findall(r\"@(\\w+)\", i)    # extract the ids of all the users that whose tweets were pulled\n",
    "        if len(a) >0:\n",
    "            lst.extend(a)\n",
    "    nxt = '@'+str(lst[-1])      # using the last id as the next id to pull the next batch of tweets, hence continuing the cycle \n",
    "    print nxt\n",
    "    public_tweets2 = api.search(trending,count =50,max_id=nxt)\n",
    "    \n",
    "    for tweet in public_tweets2:\n",
    "        all_tt.append(tweet.text) \n",
    "\n",
    "print 'The grand total of Tweets that could be pulled:',len(all_tt)"
   ]
  },
  {
   "cell_type": "markdown",
   "metadata": {},
   "source": [
    "<h1>Removing Duplicates</h1>\n",
    "Re-tweets are another major issue that amount to a huge percentage of the total tweets. Thus these duplicates have to be removed, otherwise they would not only add redundant data, nor do they provide any additional infromation."
   ]
  },
  {
   "cell_type": "code",
   "execution_count": 9,
   "metadata": {
    "collapsed": false
   },
   "outputs": [
    {
     "name": "stdout",
     "output_type": "stream",
     "text": [
      "Total number of unique tweets: 97\n"
     ]
    }
   ],
   "source": [
    "all_tt = set(all_tt)\n",
    "all_tt = list(all_tt)\n",
    "clean = []\n",
    "for x in all_tt:\n",
    "    test=''\n",
    "    test=' '.join(re.sub(\"(@[A-Za-z0-9]+)|([^0-9A-Za-z \\t])|(\\w+:\\/\\/\\S+)\",\" \",x).split()) # Removing '@' symbol\n",
    "    test=test.replace('RT','')  # Replacing 'RT' symbol with blank space\n",
    "    clean.append(test)\n",
    "print 'Total number of unique tweets:',len(clean)"
   ]
  },
  {
   "cell_type": "markdown",
   "metadata": {},
   "source": [
    "<h2> Pre-Precessing the data(tweets)"
   ]
  },
  {
   "cell_type": "code",
   "execution_count": 10,
   "metadata": {
    "collapsed": false
   },
   "outputs": [],
   "source": [
    "with open ('stopwords.txt','r') as fn:\n",
    "    stop_words=fn.read()\n",
    "stop_words=stop_words.split()"
   ]
  },
  {
   "cell_type": "code",
   "execution_count": 11,
   "metadata": {
    "collapsed": false
   },
   "outputs": [],
   "source": [
    "nos = list(range(10))\n",
    "nos = [str(x) for x in nos]\n",
    "\n",
    "l = '!\"#$%&()*+,-/:;<=>?@[\\]^_`{|}~'\n",
    "ls = []\n",
    "\n",
    "for i in l:\n",
    "    ls.append(i)\n",
    "\n",
    "sp = nos + ls"
   ]
  },
  {
   "cell_type": "code",
   "execution_count": 12,
   "metadata": {
    "collapsed": true
   },
   "outputs": [],
   "source": [
    "from nltk.tokenize import word_tokenize\n",
    "def rmv(lst):\n",
    "    test = []\n",
    "    for txt in lst:\n",
    "        for letter in txt:\n",
    "            if (letter in sp):\n",
    "                txt = txt.replace(letter,'')\n",
    "        test.append(txt)\n",
    "    return test\n",
    "\n",
    "def rm_spch(s):\n",
    "\n",
    "    one = []\n",
    "    x = ''\n",
    "\n",
    "    for num in s:\n",
    "        x = str(num)\n",
    "        test = word_tokenize(x)\n",
    "        \n",
    "        res = test[:]\n",
    "        for xn in test:\n",
    "            \n",
    "            if (xn in  stop_words):\n",
    "                    res.remove(xn)\n",
    "                \n",
    "        sen = ' '.join(res)\n",
    "        one.append(sen)\n",
    "        one = rmv(one)\n",
    "    return one"
   ]
  },
  {
   "cell_type": "markdown",
   "metadata": {},
   "source": [
    "Performing the cleaning operation"
   ]
  },
  {
   "cell_type": "code",
   "execution_count": 13,
   "metadata": {
    "collapsed": false
   },
   "outputs": [],
   "source": [
    "clean = rm_spch(clean)"
   ]
  },
  {
   "cell_type": "markdown",
   "metadata": {},
   "source": [
    "In case there is any unwanted data still left, user can specify the minimum length of the tweet required and remove the rest.  "
   ]
  },
  {
   "cell_type": "code",
   "execution_count": 14,
   "metadata": {
    "collapsed": false
   },
   "outputs": [
    {
     "name": "stdout",
     "output_type": "stream",
     "text": [
      "97\n"
     ]
    }
   ],
   "source": [
    "clean = [x for x in clean if len(x)>2]\n",
    "print len(clean)"
   ]
  },
  {
   "cell_type": "markdown",
   "metadata": {},
   "source": [
    "<b>Even after the above cleaning process, there may exist some redundancy/duplicates, this is just a precautionary cleaning step."
   ]
  },
  {
   "cell_type": "code",
   "execution_count": 15,
   "metadata": {
    "collapsed": false
   },
   "outputs": [
    {
     "name": "stdout",
     "output_type": "stream",
     "text": [
      "The final number of tweets: 93\n"
     ]
    }
   ],
   "source": [
    "clean = set(clean)\n",
    "clean = list(clean)\n",
    "print 'The final number of tweets:', len(clean)"
   ]
  },
  {
   "cell_type": "markdown",
   "metadata": {},
   "source": [
    "<h2> Tweet segregation using the 'textblob' package"
   ]
  },
  {
   "cell_type": "code",
   "execution_count": 16,
   "metadata": {
    "collapsed": false
   },
   "outputs": [],
   "source": [
    "pol = []\n",
    "sub = []\n",
    "for i in clean:\n",
    "    first = TextBlob(i)\n",
    "    pol.append(first.sentiment[0])    # Polarity of the respective tweet\n",
    "    sub.append(first.sentiment[1])    # Subjectivity of the respective tweet"
   ]
  },
  {
   "cell_type": "markdown",
   "metadata": {},
   "source": [
    "<b> Using 'Counter' object to make sure that tweets obtained are unique"
   ]
  },
  {
   "cell_type": "code",
   "execution_count": 17,
   "metadata": {
    "collapsed": false
   },
   "outputs": [
    {
     "data": {
      "text/plain": [
       "Counter({' Buen momento para recordar a Cristiano Ronaldo lo destap la prensa y la Ag Tributaria entre presiones y c': 1,\n",
       "         'Aos  anos de idade Cristiano Ronaldo foi contratado pelo Nacional de Portugal por  bolas de futebol e  pares de chu': 1,\n",
       "         'Arsenal paid m Andrey Arshavin Let remind club paid  m Cristiano Ronaldo': 1,\n",
       "         'Bless women drew Cristiano Ronaldo feet What a great talent': 1,\n",
       "         'CASPA A Declara CRISTIANO RONALDO pero ponen im genes de Messi Grandes altavoces blancos nacionales al servicio blanco h': 1,\n",
       "         'Cadena SER Cristiano told judge today I m I m Cristiano Ronaldo If a mic drop m': 1,\n",
       "         'Coche Cristiano Ronaldo entrando a declarar': 1,\n",
       "         'Como cuando CR se queda fuera de su habitaci n de hotel y en calzoncillo': 1,\n",
       "         'Comunicado de Cristiano Ronaldo hubo intenci n de evadir impuestos': 1,\n",
       "         'Cristiano Ronaldo Appears In Court On Tax Charges': 1,\n",
       "         'Cristiano Ronaldo Best Dribbling Skills  Full HD p': 1,\n",
       "         'Cristiano Ronaldo Si llamara Cristiano Ronaldo estar a aqu sentado Cierto estar ya en la c rcel Declar': 1,\n",
       "         'Cristiano Ronaldo Si llamara Cristiano Ronaldo estar a aqu sentado Exacto estar ya en el rinc n de pensar': 1,\n",
       "         'Cristiano Ronaldo a depor em tribunal Ronaldo fugiu ao fisco Siiiiiiiii Agrade o a confiss o mas vista a t': 1,\n",
       "         'Cristiano Ronaldo al juez Si llamara Cristiano Ronaldo estar a aqu Y si tuviera sociedades en la Islas V rgen': 1,\n",
       "         'Cristiano Ronaldo appears Spanish court alleged  M tax evasion CNN': 1,\n",
       "         'Cristiano Ronaldo argumenta si se llamara estar a sentado prestando declaraci n': 1,\n",
       "         'Cristiano Ronaldo court tax charges': 1,\n",
       "         'Cristiano Ronaldo court today': 1,\n",
       "         'Cristiano Ronaldo declara Cuando vine a Espa a dijeron ten a adoptar las costumbres de aqu': 1,\n",
       "         'Cristiano Ronaldo declarar a puerta cerrada con la camiseta de la selecci n Portuguesa Sin recordar el equipo de la lig': 1,\n",
       "         'Cristiano Ronaldo demanda a Hacienda por da os de imagen': 1,\n",
       "         'Cristiano Ronaldo denies  m tax evasion Madrid court': 1,\n",
       "         'Cristiano Ronaldo empieza la temporada en el banquillo lo recuerda Guardiola es pintamonas': 1,\n",
       "         'Cristiano Ronaldo eres mas mentiroso tu madre hijo de puta corrupto mafioso ladr n': 1,\n",
       "         'Cristiano Ronaldo ficha a Mariano Rajoy para testifique por l ante el juez': 1,\n",
       "         'Cristiano Ronaldo ha ENTRADO al juzgado A ESCONDIDAS porque quien nada DEBE nada TEME': 1,\n",
       "         'Cristiano Ronaldo ha entrado al juzgado como los valientes por la puerta de atr s Este es de los m os': 1,\n",
       "         'Cristiano Ronaldo minha religi o': 1,\n",
       "         'Cristiano Ronaldo piscinazo a la jueza regate a la prensa y fuera de juego a Hacienda luego dec s se merece el b': 1,\n",
       "         'Cristiano Ronaldo read A Cunt': 1,\n",
       "         'Cristiano Ronaldo s Real Madrid career Most goals  Most Bernabeu goals  Most goals  Most hat tric': 1,\n",
       "         'Cristiano Ronaldo va a Pozuelo de Alarc n a defenderse de las acusaciones Messi respond a ante la justicia por robar': 1,\n",
       "         'Cristiano Ronaldo ya ha dado la cara despu s de declarar Tenemos las primera im genes gracias a A Bernal': 1,\n",
       "         'Cristiano Si llamara Cristiano Ronaldo estar a aqu LA PURA VERDAD': 1,\n",
       "         'CristianoRonaldo declara tras ser acusado por fraude fiscal Memes se burlan de CR F tbol': 1,\n",
       "         'Cuando vine a Espa a dijeron ten a adoptar las costumbres de aqu Cristiano Ronaldo': 1,\n",
       "         'Desde la cola del banco de alimentos los espa oles se solidarizan con el sufrimiento de Cristiano Ronaldo nimo campe n': 1,\n",
       "         'Desolaci n y tristeza nivel Cristiano Ronaldo JeSuisCristiano': 1,\n",
       "         'ESPA A Declar CR Si llamara Cristiano Ronaldo estar a aqu en laoraldeportiva por h': 1,\n",
       "         'ESPN Comunicado oficial de Cristiano Ronaldo luego de declarar en el juzgado por el presunto caso de fraude fiscal': 1,\n",
       "         'El director de Marca tosiendo cuando dice cree s ver amos la foto de Cristiano Ronaldo en el Juzgado Hoy se ha dem': 1,\n",
       "         'Em nota Cristiano Ronaldo nega tentativa de fraude fiscal gt': 1,\n",
       "         'En la camiseta de Cristiano Ronaldo ahora pondr Ese Delantero Centro Del Que Usted Me Habla': 1,\n",
       "         'Espa a es ese pa s en el gente parada y con la prestaci n agotada jalea a Cristiano Ronaldo por defraudar  millones d': 1,\n",
       "         'Evasione fiscale Cristiano Ronaldo rischia  anni': 1,\n",
       "         'Football Cristiano Ronaldo mis en examen pour fraude fiscale en Espagne': 1,\n",
       "         'Footballer Cristiano Ronaldo appeared a Spanish court facing allegations evaded millions tax BBC': 1,\n",
       "         'Gente le embargan la casa y llega a fin de mes trabajando  h sacando la cara por el delincuente Cristiano Ronal': 1,\n",
       "         'Hace a os tambi n era Cristiano Ronaldo y estaba en los juzgados': 1,\n",
       "         'Hay mont n de gente en la puerta de Juzgado aplaudi ndole a Cristiano Ronaldo por pagar a Hacienda este pa s ti': 1,\n",
       "         'Jam s ocultado nada ni tenido intenci n de evadir impuestos Si llamara Cristiano Ronaldo estar a a': 1,\n",
       "         'JuventudRebelde Cristiano Ronaldo comparece ante jurado por presunta evasi n fiscal Cuba': 1,\n",
       "         'Kike Mar n explicando la presi n Florentino P rez ejerce sobre los medios de comunicaci n s lo con Cristiano Ronaldo': 1,\n",
       "         'LTIMO HORA Me informan Cristiano Ronaldo estaba m s tenso ante el juez el calzoncillo del marroqu al verlo lle': 1,\n",
       "         'La Agencia Tributaria lo hace porque soy Cristiano Ronaldo No si se llamase Antonio P rez tambi n estar a ah htt': 1,\n",
       "         'La noticia es Cristiano Ronaldo se sento en el banquillo pero para el Marca cual es siiiiiii neymar Vaya manipuladores': 1,\n",
       "         'Los memes de Cristiano tras declarar ante la justicia': 1,\n",
       "         'Me ha gustado v deo de Cristiano Ronaldo  Minutos Ante el Juez Ronaldo Si No Me Llamar': 1,\n",
       "         'Messi y Cristiano Ronaldo entrando en los juzgados encuentra las  diferencias': 1,\n",
       "         'Mis en examen pour fraude fiscale Cristiano Ronaldo clame son innocence': 1,\n",
       "         'Ni una solo foto de Cristiano Ronaldo sentado ante el juez De Messi las tenemos hasta de infrarrojos': 1,\n",
       "         'Noticia Cristiano Ronaldo ante la justicia Jam s tenido intenci n de evadir impuestos Globovision': 1,\n",
       "         'Numerosos medios de comunicaci n para escuchar  segundos al abogado de Cristiano Ronaldo': 1,\n",
       "         'Ojipl tica quedo al ver le hab montado atril a Cristiano Ronaldo a la entrada del juzgado para hiciese declaraciones': 1,\n",
       "         'Parad jicamente Cristiano Ronaldo ha hecho declaraciones': 1,\n",
       "         'Periodistas buscando a Cristiano Ronaldo en la entrada de los juzgados': 1,\n",
       "         'Quand tu es coiffeur fan de Cristiano Ronaldo': 1,\n",
       "         'Que dice Cristiano Ronaldo est en los juzgados por ser Cristiano Ronaldo est s en los juzgados por defraudar': 1,\n",
       "         'Que dice Cristiano Ronaldo estar a ah si fuera porque se llama claro guapi estar ya en la c rcel': 1,\n",
       "         'Real Madrid star Cristiano Ronaldo testified court facing allegations evaded millions tax https': 1,\n",
       "         'RealMadrid As lleg Cristiano Ronaldo al Juzgado': 1,\n",
       "         'Recuerda Hoy declara Cristiano Ronaldo por presunto fraude de   millones pero hay  milllones ya han prescri': 1,\n",
       "         'Ronaldo appears Spanish court alleged tax evasion': 1,\n",
       "         'Se Cristiano Ronaldo qu hac a usted con la declaraci n de la renta': 1,\n",
       "         'Se empieza aplaudiendo a Cristiano Ronaldo cuando entra en el juzgado y se acaba aplaudiendo cuando aterriza el avi n Cuidado': 1,\n",
       "         'Si el pobre Cristiano Ronaldo fuera alguien normal ya estar a comiendo techo en el talego': 1,\n",
       "         'Si fuera Cristiano Ronaldo conformar a con saber millones de ni os de barrio quieren ser como yo necesitar a m s riqueza esa': 1,\n",
       "         'Si llamara Cristiano Ronaldo estar a aqu Muy cierto pedazo de gilipollas ya estar en la c rcel': 1,\n",
       "         'Tambi n tengo caricatura de Cristiano Ronaldo caricatura caricature illustration ilustracion': 1,\n",
       "         'This women drew Cristiano Ronaldo s picture feet What a great talent': 1,\n",
       "         'Tras declarar ante la fiscal a fueron las palabras de Cristiano Ronaldo Qu opinas': 1,\n",
       "         'Usain Bolt Je suis supporter du Real Madrid J aime ce club parce qu il y a Cristiano Ronaldo': 1,\n",
       "         'VIDEO Evasione fiscale CR parla con la stampa contestato l avvocato': 1,\n",
       "         'Y le vacila al juez diciendo si se llamara Cristiano Ronaldo se encontrar a Esto es Espa a': 1,\n",
       "         'Zlatan Ibrahimovic Alexander The Mauler Gustafsson Cristiano Ronaldo Connor McGregor Neymar': 1,\n",
       "         'aldia Tu amor hace fuerte tu odio hace imparable Cristiano Ronaldo': 1,\n",
       "         'atleti V DEO As fue el Zasca de la jueza a Cristiano Ronaldo en una tensa declaraci n': 1,\n",
       "         'chiringuito Recuerda El fraude fiscal cometi Cristiano Ronaldo en los a os   ascend a a  milllones de euros ya': 1,\n",
       "         'cristiano ronaldo optimum ads mickey mantle decided spend winter  stumping ford edsel': 1,\n",
       "         'desde  somente  champions league n o tiveram messi ou cristiano ronaldo como vencedores': 1,\n",
       "         'es Ronaldo declara Cuando vine a Espa a dijeron ten a adoptar las costumbres de aqu Por ': 1,\n",
       "         'insociable Cristiano Ronaldo jle trouve hyper moche mdr': 1})"
      ]
     },
     "execution_count": 17,
     "metadata": {},
     "output_type": "execute_result"
    }
   ],
   "source": [
    "from collections import Counter as cnt\n",
    "cnt(clean)"
   ]
  },
  {
   "cell_type": "markdown",
   "metadata": {},
   "source": [
    "<h2>OPTIONAL"
   ]
  },
  {
   "cell_type": "markdown",
   "metadata": {},
   "source": [
    "<b> Users can store/output the above data as a .csv file."
   ]
  },
  {
   "cell_type": "code",
   "execution_count": 18,
   "metadata": {
    "collapsed": false
   },
   "outputs": [],
   "source": [
    "di = {'Polarity':pol,'Subjectivity':sub, 'Text':clean}\n",
    "df = DataFrame(di)\n",
    "df.to_csv('tweets.csv', index = False)"
   ]
  },
  {
   "cell_type": "markdown",
   "metadata": {},
   "source": [
    "<b> Users can also segregate the texts/tweets based on their polarity as per their own criteria or threshold. The below code is just an example."
   ]
  },
  {
   "cell_type": "code",
   "execution_count": 19,
   "metadata": {
    "collapsed": false
   },
   "outputs": [],
   "source": [
    "classification = []\n",
    "for cl in pol:\n",
    "    clf = ''\n",
    "    if cl > 0.03:\n",
    "        clf = 'positive'\n",
    "        classification.append(clf)\n",
    "    elif cl < 0:\n",
    "        clf = 'negative'\n",
    "        classification.append(clf)\n",
    "    else:\n",
    "        clf = 'neutral'\n",
    "        classification.append(clf)        "
   ]
  },
  {
   "cell_type": "markdown",
   "metadata": {},
   "source": [
    "<h2> To check the segregation categories and their respective counts."
   ]
  },
  {
   "cell_type": "code",
   "execution_count": 20,
   "metadata": {
    "collapsed": false
   },
   "outputs": [
    {
     "data": {
      "text/plain": [
       "neutral     83\n",
       "positive     8\n",
       "negative     2\n",
       "dtype: int64"
      ]
     },
     "execution_count": 20,
     "metadata": {},
     "output_type": "execute_result"
    }
   ],
   "source": [
    "classification\n",
    "Series(classification).value_counts()"
   ]
  },
  {
   "cell_type": "markdown",
   "metadata": {},
   "source": [
    "<h2>OPTIONAL"
   ]
  },
  {
   "cell_type": "markdown",
   "metadata": {},
   "source": [
    "<b> Users can store/output the above data as a .csv file."
   ]
  },
  {
   "cell_type": "code",
   "execution_count": 21,
   "metadata": {
    "collapsed": true
   },
   "outputs": [],
   "source": [
    "di_clf = {'Class':classification, 'Text':clean}\n",
    "df_clf = DataFrame(di_clf)\n",
    "df_clf.to_csv('tweets_classified.csv', index = False)"
   ]
  },
  {
   "cell_type": "markdown",
   "metadata": {},
   "source": [
    "<h1> End Notes"
   ]
  },
  {
   "cell_type": "markdown",
   "metadata": {},
   "source": [
    "<li>Like mentioned above, historical data upto 1 week only can be fetched from the Twitter API, so always try to fetch the data when it is trending in real time.\n",
    "<li>As the number of count for tweets increases, the fetching time will also increase, so adjust the parameteres accordingly or have enough patience.\n",
    "<li>We have kept the 'count' argument in the api call to 50, as we have experienced that this gives the best result. Though users can play with that number, any number below 80 is highly suggested.\n",
    "<li>To collect enough data, user must keep the 'counter' variable reasonably high since only about 10% data is unique, and rest is re-tweeted.\n",
    "<li>Our personal trails have shown that a lower 'count' value results in higher percentage of unique tweets(data), though this is not absolute.\n"
   ]
  }
 ],
 "metadata": {
  "kernelspec": {
   "display_name": "Python 2",
   "language": "python",
   "name": "python2"
  },
  "language_info": {
   "codemirror_mode": {
    "name": "ipython",
    "version": 2
   },
   "file_extension": ".py",
   "mimetype": "text/x-python",
   "name": "python",
   "nbconvert_exporter": "python",
   "pygments_lexer": "ipython2",
   "version": "2.7.11"
  }
 },
 "nbformat": 4,
 "nbformat_minor": 0
}
